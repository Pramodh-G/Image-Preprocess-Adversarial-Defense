{
  "nbformat": 4,
  "nbformat_minor": 0,
  "metadata": {
    "colab": {
      "name": "RandomNetwork.ipynb",
      "provenance": [],
      "collapsed_sections": []
    },
    "kernelspec": {
      "name": "python3",
      "display_name": "Python 3"
    },
    "accelerator": "GPU",
    "widgets": {
      "application/vnd.jupyter.widget-state+json": {
        "ca94b6ce1c2d4986a4a59569960eae9a": {
          "model_module": "@jupyter-widgets/controls",
          "model_name": "HBoxModel",
          "model_module_version": "1.5.0",
          "state": {
            "_view_name": "HBoxView",
            "_dom_classes": [],
            "_model_name": "HBoxModel",
            "_view_module": "@jupyter-widgets/controls",
            "_model_module_version": "1.5.0",
            "_view_count": null,
            "_view_module_version": "1.5.0",
            "box_style": "",
            "layout": "IPY_MODEL_7371575108124434875e8903dcdfd677",
            "_model_module": "@jupyter-widgets/controls",
            "children": [
              "IPY_MODEL_84dd989a66444eed99a2420b29a218d6",
              "IPY_MODEL_9af3fa8befc448639ec19f31043b82f9"
            ]
          }
        },
        "7371575108124434875e8903dcdfd677": {
          "model_module": "@jupyter-widgets/base",
          "model_name": "LayoutModel",
          "model_module_version": "1.2.0",
          "state": {
            "_view_name": "LayoutView",
            "grid_template_rows": null,
            "right": null,
            "justify_content": null,
            "_view_module": "@jupyter-widgets/base",
            "overflow": null,
            "_model_module_version": "1.2.0",
            "_view_count": null,
            "flex_flow": null,
            "width": null,
            "min_width": null,
            "border": null,
            "align_items": null,
            "bottom": null,
            "_model_module": "@jupyter-widgets/base",
            "top": null,
            "grid_column": null,
            "overflow_y": null,
            "overflow_x": null,
            "grid_auto_flow": null,
            "grid_area": null,
            "grid_template_columns": null,
            "flex": null,
            "_model_name": "LayoutModel",
            "justify_items": null,
            "grid_row": null,
            "max_height": null,
            "align_content": null,
            "visibility": null,
            "align_self": null,
            "height": null,
            "min_height": null,
            "padding": null,
            "grid_auto_rows": null,
            "grid_gap": null,
            "max_width": null,
            "order": null,
            "_view_module_version": "1.2.0",
            "grid_template_areas": null,
            "object_position": null,
            "object_fit": null,
            "grid_auto_columns": null,
            "margin": null,
            "display": null,
            "left": null
          }
        },
        "84dd989a66444eed99a2420b29a218d6": {
          "model_module": "@jupyter-widgets/controls",
          "model_name": "FloatProgressModel",
          "model_module_version": "1.5.0",
          "state": {
            "_view_name": "ProgressView",
            "style": "IPY_MODEL_eddf696d299349978652351f94b9f97e",
            "_dom_classes": [],
            "description": "",
            "_model_name": "FloatProgressModel",
            "bar_style": "success",
            "max": 1,
            "_view_module": "@jupyter-widgets/controls",
            "_model_module_version": "1.5.0",
            "value": 1,
            "_view_count": null,
            "_view_module_version": "1.5.0",
            "orientation": "horizontal",
            "min": 0,
            "description_tooltip": null,
            "_model_module": "@jupyter-widgets/controls",
            "layout": "IPY_MODEL_8edbb84b2f7c444491e15ced61128b81"
          }
        },
        "9af3fa8befc448639ec19f31043b82f9": {
          "model_module": "@jupyter-widgets/controls",
          "model_name": "HTMLModel",
          "model_module_version": "1.5.0",
          "state": {
            "_view_name": "HTMLView",
            "style": "IPY_MODEL_8797846fb4b0447e8cee7ce59eda2e13",
            "_dom_classes": [],
            "description": "",
            "_model_name": "HTMLModel",
            "placeholder": "​",
            "_view_module": "@jupyter-widgets/controls",
            "_model_module_version": "1.5.0",
            "value": " 9920512/? [00:00&lt;00:00, 13807801.18it/s]",
            "_view_count": null,
            "_view_module_version": "1.5.0",
            "description_tooltip": null,
            "_model_module": "@jupyter-widgets/controls",
            "layout": "IPY_MODEL_8dfee6bc72c047b289916770a6b2d3d0"
          }
        },
        "eddf696d299349978652351f94b9f97e": {
          "model_module": "@jupyter-widgets/controls",
          "model_name": "ProgressStyleModel",
          "model_module_version": "1.5.0",
          "state": {
            "_view_name": "StyleView",
            "_model_name": "ProgressStyleModel",
            "description_width": "initial",
            "_view_module": "@jupyter-widgets/base",
            "_model_module_version": "1.5.0",
            "_view_count": null,
            "_view_module_version": "1.2.0",
            "bar_color": null,
            "_model_module": "@jupyter-widgets/controls"
          }
        },
        "8edbb84b2f7c444491e15ced61128b81": {
          "model_module": "@jupyter-widgets/base",
          "model_name": "LayoutModel",
          "model_module_version": "1.2.0",
          "state": {
            "_view_name": "LayoutView",
            "grid_template_rows": null,
            "right": null,
            "justify_content": null,
            "_view_module": "@jupyter-widgets/base",
            "overflow": null,
            "_model_module_version": "1.2.0",
            "_view_count": null,
            "flex_flow": null,
            "width": null,
            "min_width": null,
            "border": null,
            "align_items": null,
            "bottom": null,
            "_model_module": "@jupyter-widgets/base",
            "top": null,
            "grid_column": null,
            "overflow_y": null,
            "overflow_x": null,
            "grid_auto_flow": null,
            "grid_area": null,
            "grid_template_columns": null,
            "flex": null,
            "_model_name": "LayoutModel",
            "justify_items": null,
            "grid_row": null,
            "max_height": null,
            "align_content": null,
            "visibility": null,
            "align_self": null,
            "height": null,
            "min_height": null,
            "padding": null,
            "grid_auto_rows": null,
            "grid_gap": null,
            "max_width": null,
            "order": null,
            "_view_module_version": "1.2.0",
            "grid_template_areas": null,
            "object_position": null,
            "object_fit": null,
            "grid_auto_columns": null,
            "margin": null,
            "display": null,
            "left": null
          }
        },
        "8797846fb4b0447e8cee7ce59eda2e13": {
          "model_module": "@jupyter-widgets/controls",
          "model_name": "DescriptionStyleModel",
          "model_module_version": "1.5.0",
          "state": {
            "_view_name": "StyleView",
            "_model_name": "DescriptionStyleModel",
            "description_width": "",
            "_view_module": "@jupyter-widgets/base",
            "_model_module_version": "1.5.0",
            "_view_count": null,
            "_view_module_version": "1.2.0",
            "_model_module": "@jupyter-widgets/controls"
          }
        },
        "8dfee6bc72c047b289916770a6b2d3d0": {
          "model_module": "@jupyter-widgets/base",
          "model_name": "LayoutModel",
          "model_module_version": "1.2.0",
          "state": {
            "_view_name": "LayoutView",
            "grid_template_rows": null,
            "right": null,
            "justify_content": null,
            "_view_module": "@jupyter-widgets/base",
            "overflow": null,
            "_model_module_version": "1.2.0",
            "_view_count": null,
            "flex_flow": null,
            "width": null,
            "min_width": null,
            "border": null,
            "align_items": null,
            "bottom": null,
            "_model_module": "@jupyter-widgets/base",
            "top": null,
            "grid_column": null,
            "overflow_y": null,
            "overflow_x": null,
            "grid_auto_flow": null,
            "grid_area": null,
            "grid_template_columns": null,
            "flex": null,
            "_model_name": "LayoutModel",
            "justify_items": null,
            "grid_row": null,
            "max_height": null,
            "align_content": null,
            "visibility": null,
            "align_self": null,
            "height": null,
            "min_height": null,
            "padding": null,
            "grid_auto_rows": null,
            "grid_gap": null,
            "max_width": null,
            "order": null,
            "_view_module_version": "1.2.0",
            "grid_template_areas": null,
            "object_position": null,
            "object_fit": null,
            "grid_auto_columns": null,
            "margin": null,
            "display": null,
            "left": null
          }
        },
        "fc592de970a749bc954106933b17d782": {
          "model_module": "@jupyter-widgets/controls",
          "model_name": "HBoxModel",
          "model_module_version": "1.5.0",
          "state": {
            "_view_name": "HBoxView",
            "_dom_classes": [],
            "_model_name": "HBoxModel",
            "_view_module": "@jupyter-widgets/controls",
            "_model_module_version": "1.5.0",
            "_view_count": null,
            "_view_module_version": "1.5.0",
            "box_style": "",
            "layout": "IPY_MODEL_28dcf901669144fcb2ee2eddec38e67c",
            "_model_module": "@jupyter-widgets/controls",
            "children": [
              "IPY_MODEL_212b11080a7145818488040756a68508",
              "IPY_MODEL_1575b85bfca44a73b7935044b5cea27f"
            ]
          }
        },
        "28dcf901669144fcb2ee2eddec38e67c": {
          "model_module": "@jupyter-widgets/base",
          "model_name": "LayoutModel",
          "model_module_version": "1.2.0",
          "state": {
            "_view_name": "LayoutView",
            "grid_template_rows": null,
            "right": null,
            "justify_content": null,
            "_view_module": "@jupyter-widgets/base",
            "overflow": null,
            "_model_module_version": "1.2.0",
            "_view_count": null,
            "flex_flow": null,
            "width": null,
            "min_width": null,
            "border": null,
            "align_items": null,
            "bottom": null,
            "_model_module": "@jupyter-widgets/base",
            "top": null,
            "grid_column": null,
            "overflow_y": null,
            "overflow_x": null,
            "grid_auto_flow": null,
            "grid_area": null,
            "grid_template_columns": null,
            "flex": null,
            "_model_name": "LayoutModel",
            "justify_items": null,
            "grid_row": null,
            "max_height": null,
            "align_content": null,
            "visibility": null,
            "align_self": null,
            "height": null,
            "min_height": null,
            "padding": null,
            "grid_auto_rows": null,
            "grid_gap": null,
            "max_width": null,
            "order": null,
            "_view_module_version": "1.2.0",
            "grid_template_areas": null,
            "object_position": null,
            "object_fit": null,
            "grid_auto_columns": null,
            "margin": null,
            "display": null,
            "left": null
          }
        },
        "212b11080a7145818488040756a68508": {
          "model_module": "@jupyter-widgets/controls",
          "model_name": "FloatProgressModel",
          "model_module_version": "1.5.0",
          "state": {
            "_view_name": "ProgressView",
            "style": "IPY_MODEL_d7e0cbfe69da40628ba439c44c89bf3c",
            "_dom_classes": [],
            "description": "  0%",
            "_model_name": "FloatProgressModel",
            "bar_style": "info",
            "max": 1,
            "_view_module": "@jupyter-widgets/controls",
            "_model_module_version": "1.5.0",
            "value": 0,
            "_view_count": null,
            "_view_module_version": "1.5.0",
            "orientation": "horizontal",
            "min": 0,
            "description_tooltip": null,
            "_model_module": "@jupyter-widgets/controls",
            "layout": "IPY_MODEL_182f7237e7f44954b67cf202e7d96a75"
          }
        },
        "1575b85bfca44a73b7935044b5cea27f": {
          "model_module": "@jupyter-widgets/controls",
          "model_name": "HTMLModel",
          "model_module_version": "1.5.0",
          "state": {
            "_view_name": "HTMLView",
            "style": "IPY_MODEL_a1cf1d9b7f1c4098b3c68455978b5ebe",
            "_dom_classes": [],
            "description": "",
            "_model_name": "HTMLModel",
            "placeholder": "​",
            "_view_module": "@jupyter-widgets/controls",
            "_model_module_version": "1.5.0",
            "value": " 0/28881 [00:00&lt;?, ?it/s]",
            "_view_count": null,
            "_view_module_version": "1.5.0",
            "description_tooltip": null,
            "_model_module": "@jupyter-widgets/controls",
            "layout": "IPY_MODEL_cc94a80339bd4a269ac236dadd847385"
          }
        },
        "d7e0cbfe69da40628ba439c44c89bf3c": {
          "model_module": "@jupyter-widgets/controls",
          "model_name": "ProgressStyleModel",
          "model_module_version": "1.5.0",
          "state": {
            "_view_name": "StyleView",
            "_model_name": "ProgressStyleModel",
            "description_width": "initial",
            "_view_module": "@jupyter-widgets/base",
            "_model_module_version": "1.5.0",
            "_view_count": null,
            "_view_module_version": "1.2.0",
            "bar_color": null,
            "_model_module": "@jupyter-widgets/controls"
          }
        },
        "182f7237e7f44954b67cf202e7d96a75": {
          "model_module": "@jupyter-widgets/base",
          "model_name": "LayoutModel",
          "model_module_version": "1.2.0",
          "state": {
            "_view_name": "LayoutView",
            "grid_template_rows": null,
            "right": null,
            "justify_content": null,
            "_view_module": "@jupyter-widgets/base",
            "overflow": null,
            "_model_module_version": "1.2.0",
            "_view_count": null,
            "flex_flow": null,
            "width": null,
            "min_width": null,
            "border": null,
            "align_items": null,
            "bottom": null,
            "_model_module": "@jupyter-widgets/base",
            "top": null,
            "grid_column": null,
            "overflow_y": null,
            "overflow_x": null,
            "grid_auto_flow": null,
            "grid_area": null,
            "grid_template_columns": null,
            "flex": null,
            "_model_name": "LayoutModel",
            "justify_items": null,
            "grid_row": null,
            "max_height": null,
            "align_content": null,
            "visibility": null,
            "align_self": null,
            "height": null,
            "min_height": null,
            "padding": null,
            "grid_auto_rows": null,
            "grid_gap": null,
            "max_width": null,
            "order": null,
            "_view_module_version": "1.2.0",
            "grid_template_areas": null,
            "object_position": null,
            "object_fit": null,
            "grid_auto_columns": null,
            "margin": null,
            "display": null,
            "left": null
          }
        },
        "a1cf1d9b7f1c4098b3c68455978b5ebe": {
          "model_module": "@jupyter-widgets/controls",
          "model_name": "DescriptionStyleModel",
          "model_module_version": "1.5.0",
          "state": {
            "_view_name": "StyleView",
            "_model_name": "DescriptionStyleModel",
            "description_width": "",
            "_view_module": "@jupyter-widgets/base",
            "_model_module_version": "1.5.0",
            "_view_count": null,
            "_view_module_version": "1.2.0",
            "_model_module": "@jupyter-widgets/controls"
          }
        },
        "cc94a80339bd4a269ac236dadd847385": {
          "model_module": "@jupyter-widgets/base",
          "model_name": "LayoutModel",
          "model_module_version": "1.2.0",
          "state": {
            "_view_name": "LayoutView",
            "grid_template_rows": null,
            "right": null,
            "justify_content": null,
            "_view_module": "@jupyter-widgets/base",
            "overflow": null,
            "_model_module_version": "1.2.0",
            "_view_count": null,
            "flex_flow": null,
            "width": null,
            "min_width": null,
            "border": null,
            "align_items": null,
            "bottom": null,
            "_model_module": "@jupyter-widgets/base",
            "top": null,
            "grid_column": null,
            "overflow_y": null,
            "overflow_x": null,
            "grid_auto_flow": null,
            "grid_area": null,
            "grid_template_columns": null,
            "flex": null,
            "_model_name": "LayoutModel",
            "justify_items": null,
            "grid_row": null,
            "max_height": null,
            "align_content": null,
            "visibility": null,
            "align_self": null,
            "height": null,
            "min_height": null,
            "padding": null,
            "grid_auto_rows": null,
            "grid_gap": null,
            "max_width": null,
            "order": null,
            "_view_module_version": "1.2.0",
            "grid_template_areas": null,
            "object_position": null,
            "object_fit": null,
            "grid_auto_columns": null,
            "margin": null,
            "display": null,
            "left": null
          }
        },
        "ecc8b3c089d04e9d9419b622a8524633": {
          "model_module": "@jupyter-widgets/controls",
          "model_name": "HBoxModel",
          "model_module_version": "1.5.0",
          "state": {
            "_view_name": "HBoxView",
            "_dom_classes": [],
            "_model_name": "HBoxModel",
            "_view_module": "@jupyter-widgets/controls",
            "_model_module_version": "1.5.0",
            "_view_count": null,
            "_view_module_version": "1.5.0",
            "box_style": "",
            "layout": "IPY_MODEL_edf3252d7d944827b4945058876c4f91",
            "_model_module": "@jupyter-widgets/controls",
            "children": [
              "IPY_MODEL_a7faeaef738345569ee41999e69b87af",
              "IPY_MODEL_603afcc61c994fd781e8fd23acad3efe"
            ]
          }
        },
        "edf3252d7d944827b4945058876c4f91": {
          "model_module": "@jupyter-widgets/base",
          "model_name": "LayoutModel",
          "model_module_version": "1.2.0",
          "state": {
            "_view_name": "LayoutView",
            "grid_template_rows": null,
            "right": null,
            "justify_content": null,
            "_view_module": "@jupyter-widgets/base",
            "overflow": null,
            "_model_module_version": "1.2.0",
            "_view_count": null,
            "flex_flow": null,
            "width": null,
            "min_width": null,
            "border": null,
            "align_items": null,
            "bottom": null,
            "_model_module": "@jupyter-widgets/base",
            "top": null,
            "grid_column": null,
            "overflow_y": null,
            "overflow_x": null,
            "grid_auto_flow": null,
            "grid_area": null,
            "grid_template_columns": null,
            "flex": null,
            "_model_name": "LayoutModel",
            "justify_items": null,
            "grid_row": null,
            "max_height": null,
            "align_content": null,
            "visibility": null,
            "align_self": null,
            "height": null,
            "min_height": null,
            "padding": null,
            "grid_auto_rows": null,
            "grid_gap": null,
            "max_width": null,
            "order": null,
            "_view_module_version": "1.2.0",
            "grid_template_areas": null,
            "object_position": null,
            "object_fit": null,
            "grid_auto_columns": null,
            "margin": null,
            "display": null,
            "left": null
          }
        },
        "a7faeaef738345569ee41999e69b87af": {
          "model_module": "@jupyter-widgets/controls",
          "model_name": "FloatProgressModel",
          "model_module_version": "1.5.0",
          "state": {
            "_view_name": "ProgressView",
            "style": "IPY_MODEL_9ab3b221d0004061a16f5d00e7e5570d",
            "_dom_classes": [],
            "description": "",
            "_model_name": "FloatProgressModel",
            "bar_style": "success",
            "max": 1,
            "_view_module": "@jupyter-widgets/controls",
            "_model_module_version": "1.5.0",
            "value": 1,
            "_view_count": null,
            "_view_module_version": "1.5.0",
            "orientation": "horizontal",
            "min": 0,
            "description_tooltip": null,
            "_model_module": "@jupyter-widgets/controls",
            "layout": "IPY_MODEL_40c9ae96b84c4e7987d38a60e80b7cee"
          }
        },
        "603afcc61c994fd781e8fd23acad3efe": {
          "model_module": "@jupyter-widgets/controls",
          "model_name": "HTMLModel",
          "model_module_version": "1.5.0",
          "state": {
            "_view_name": "HTMLView",
            "style": "IPY_MODEL_3242fcd802ad4ccbb6ec76b5b1431ca5",
            "_dom_classes": [],
            "description": "",
            "_model_name": "HTMLModel",
            "placeholder": "​",
            "_view_module": "@jupyter-widgets/controls",
            "_model_module_version": "1.5.0",
            "value": " 1654784/? [00:00&lt;00:00, 2060407.22it/s]",
            "_view_count": null,
            "_view_module_version": "1.5.0",
            "description_tooltip": null,
            "_model_module": "@jupyter-widgets/controls",
            "layout": "IPY_MODEL_3036920d5bcc458488610e75752412c9"
          }
        },
        "9ab3b221d0004061a16f5d00e7e5570d": {
          "model_module": "@jupyter-widgets/controls",
          "model_name": "ProgressStyleModel",
          "model_module_version": "1.5.0",
          "state": {
            "_view_name": "StyleView",
            "_model_name": "ProgressStyleModel",
            "description_width": "initial",
            "_view_module": "@jupyter-widgets/base",
            "_model_module_version": "1.5.0",
            "_view_count": null,
            "_view_module_version": "1.2.0",
            "bar_color": null,
            "_model_module": "@jupyter-widgets/controls"
          }
        },
        "40c9ae96b84c4e7987d38a60e80b7cee": {
          "model_module": "@jupyter-widgets/base",
          "model_name": "LayoutModel",
          "model_module_version": "1.2.0",
          "state": {
            "_view_name": "LayoutView",
            "grid_template_rows": null,
            "right": null,
            "justify_content": null,
            "_view_module": "@jupyter-widgets/base",
            "overflow": null,
            "_model_module_version": "1.2.0",
            "_view_count": null,
            "flex_flow": null,
            "width": null,
            "min_width": null,
            "border": null,
            "align_items": null,
            "bottom": null,
            "_model_module": "@jupyter-widgets/base",
            "top": null,
            "grid_column": null,
            "overflow_y": null,
            "overflow_x": null,
            "grid_auto_flow": null,
            "grid_area": null,
            "grid_template_columns": null,
            "flex": null,
            "_model_name": "LayoutModel",
            "justify_items": null,
            "grid_row": null,
            "max_height": null,
            "align_content": null,
            "visibility": null,
            "align_self": null,
            "height": null,
            "min_height": null,
            "padding": null,
            "grid_auto_rows": null,
            "grid_gap": null,
            "max_width": null,
            "order": null,
            "_view_module_version": "1.2.0",
            "grid_template_areas": null,
            "object_position": null,
            "object_fit": null,
            "grid_auto_columns": null,
            "margin": null,
            "display": null,
            "left": null
          }
        },
        "3242fcd802ad4ccbb6ec76b5b1431ca5": {
          "model_module": "@jupyter-widgets/controls",
          "model_name": "DescriptionStyleModel",
          "model_module_version": "1.5.0",
          "state": {
            "_view_name": "StyleView",
            "_model_name": "DescriptionStyleModel",
            "description_width": "",
            "_view_module": "@jupyter-widgets/base",
            "_model_module_version": "1.5.0",
            "_view_count": null,
            "_view_module_version": "1.2.0",
            "_model_module": "@jupyter-widgets/controls"
          }
        },
        "3036920d5bcc458488610e75752412c9": {
          "model_module": "@jupyter-widgets/base",
          "model_name": "LayoutModel",
          "model_module_version": "1.2.0",
          "state": {
            "_view_name": "LayoutView",
            "grid_template_rows": null,
            "right": null,
            "justify_content": null,
            "_view_module": "@jupyter-widgets/base",
            "overflow": null,
            "_model_module_version": "1.2.0",
            "_view_count": null,
            "flex_flow": null,
            "width": null,
            "min_width": null,
            "border": null,
            "align_items": null,
            "bottom": null,
            "_model_module": "@jupyter-widgets/base",
            "top": null,
            "grid_column": null,
            "overflow_y": null,
            "overflow_x": null,
            "grid_auto_flow": null,
            "grid_area": null,
            "grid_template_columns": null,
            "flex": null,
            "_model_name": "LayoutModel",
            "justify_items": null,
            "grid_row": null,
            "max_height": null,
            "align_content": null,
            "visibility": null,
            "align_self": null,
            "height": null,
            "min_height": null,
            "padding": null,
            "grid_auto_rows": null,
            "grid_gap": null,
            "max_width": null,
            "order": null,
            "_view_module_version": "1.2.0",
            "grid_template_areas": null,
            "object_position": null,
            "object_fit": null,
            "grid_auto_columns": null,
            "margin": null,
            "display": null,
            "left": null
          }
        },
        "50e2c87a9ccb4768bd30e05563e0e8c1": {
          "model_module": "@jupyter-widgets/controls",
          "model_name": "HBoxModel",
          "model_module_version": "1.5.0",
          "state": {
            "_view_name": "HBoxView",
            "_dom_classes": [],
            "_model_name": "HBoxModel",
            "_view_module": "@jupyter-widgets/controls",
            "_model_module_version": "1.5.0",
            "_view_count": null,
            "_view_module_version": "1.5.0",
            "box_style": "",
            "layout": "IPY_MODEL_d4edd584c07840d5977918d9d97526f1",
            "_model_module": "@jupyter-widgets/controls",
            "children": [
              "IPY_MODEL_238d529ec31644b784c7fd11696e92d0",
              "IPY_MODEL_317e91db5aa549289e8d19c3477673d4"
            ]
          }
        },
        "d4edd584c07840d5977918d9d97526f1": {
          "model_module": "@jupyter-widgets/base",
          "model_name": "LayoutModel",
          "model_module_version": "1.2.0",
          "state": {
            "_view_name": "LayoutView",
            "grid_template_rows": null,
            "right": null,
            "justify_content": null,
            "_view_module": "@jupyter-widgets/base",
            "overflow": null,
            "_model_module_version": "1.2.0",
            "_view_count": null,
            "flex_flow": null,
            "width": null,
            "min_width": null,
            "border": null,
            "align_items": null,
            "bottom": null,
            "_model_module": "@jupyter-widgets/base",
            "top": null,
            "grid_column": null,
            "overflow_y": null,
            "overflow_x": null,
            "grid_auto_flow": null,
            "grid_area": null,
            "grid_template_columns": null,
            "flex": null,
            "_model_name": "LayoutModel",
            "justify_items": null,
            "grid_row": null,
            "max_height": null,
            "align_content": null,
            "visibility": null,
            "align_self": null,
            "height": null,
            "min_height": null,
            "padding": null,
            "grid_auto_rows": null,
            "grid_gap": null,
            "max_width": null,
            "order": null,
            "_view_module_version": "1.2.0",
            "grid_template_areas": null,
            "object_position": null,
            "object_fit": null,
            "grid_auto_columns": null,
            "margin": null,
            "display": null,
            "left": null
          }
        },
        "238d529ec31644b784c7fd11696e92d0": {
          "model_module": "@jupyter-widgets/controls",
          "model_name": "FloatProgressModel",
          "model_module_version": "1.5.0",
          "state": {
            "_view_name": "ProgressView",
            "style": "IPY_MODEL_595efe5817db49d193d975d266bb4dea",
            "_dom_classes": [],
            "description": "",
            "_model_name": "FloatProgressModel",
            "bar_style": "success",
            "max": 1,
            "_view_module": "@jupyter-widgets/controls",
            "_model_module_version": "1.5.0",
            "value": 1,
            "_view_count": null,
            "_view_module_version": "1.5.0",
            "orientation": "horizontal",
            "min": 0,
            "description_tooltip": null,
            "_model_module": "@jupyter-widgets/controls",
            "layout": "IPY_MODEL_a3da94f2d0e545bd92c3784db12950d8"
          }
        },
        "317e91db5aa549289e8d19c3477673d4": {
          "model_module": "@jupyter-widgets/controls",
          "model_name": "HTMLModel",
          "model_module_version": "1.5.0",
          "state": {
            "_view_name": "HTMLView",
            "style": "IPY_MODEL_5da5a3b8a55247079718f9875b7bb4c9",
            "_dom_classes": [],
            "description": "",
            "_model_name": "HTMLModel",
            "placeholder": "​",
            "_view_module": "@jupyter-widgets/controls",
            "_model_module_version": "1.5.0",
            "value": " 8192/? [00:00&lt;00:00, 16177.90it/s]",
            "_view_count": null,
            "_view_module_version": "1.5.0",
            "description_tooltip": null,
            "_model_module": "@jupyter-widgets/controls",
            "layout": "IPY_MODEL_4db0ddb5f1884b119e77b9246f64ac69"
          }
        },
        "595efe5817db49d193d975d266bb4dea": {
          "model_module": "@jupyter-widgets/controls",
          "model_name": "ProgressStyleModel",
          "model_module_version": "1.5.0",
          "state": {
            "_view_name": "StyleView",
            "_model_name": "ProgressStyleModel",
            "description_width": "initial",
            "_view_module": "@jupyter-widgets/base",
            "_model_module_version": "1.5.0",
            "_view_count": null,
            "_view_module_version": "1.2.0",
            "bar_color": null,
            "_model_module": "@jupyter-widgets/controls"
          }
        },
        "a3da94f2d0e545bd92c3784db12950d8": {
          "model_module": "@jupyter-widgets/base",
          "model_name": "LayoutModel",
          "model_module_version": "1.2.0",
          "state": {
            "_view_name": "LayoutView",
            "grid_template_rows": null,
            "right": null,
            "justify_content": null,
            "_view_module": "@jupyter-widgets/base",
            "overflow": null,
            "_model_module_version": "1.2.0",
            "_view_count": null,
            "flex_flow": null,
            "width": null,
            "min_width": null,
            "border": null,
            "align_items": null,
            "bottom": null,
            "_model_module": "@jupyter-widgets/base",
            "top": null,
            "grid_column": null,
            "overflow_y": null,
            "overflow_x": null,
            "grid_auto_flow": null,
            "grid_area": null,
            "grid_template_columns": null,
            "flex": null,
            "_model_name": "LayoutModel",
            "justify_items": null,
            "grid_row": null,
            "max_height": null,
            "align_content": null,
            "visibility": null,
            "align_self": null,
            "height": null,
            "min_height": null,
            "padding": null,
            "grid_auto_rows": null,
            "grid_gap": null,
            "max_width": null,
            "order": null,
            "_view_module_version": "1.2.0",
            "grid_template_areas": null,
            "object_position": null,
            "object_fit": null,
            "grid_auto_columns": null,
            "margin": null,
            "display": null,
            "left": null
          }
        },
        "5da5a3b8a55247079718f9875b7bb4c9": {
          "model_module": "@jupyter-widgets/controls",
          "model_name": "DescriptionStyleModel",
          "model_module_version": "1.5.0",
          "state": {
            "_view_name": "StyleView",
            "_model_name": "DescriptionStyleModel",
            "description_width": "",
            "_view_module": "@jupyter-widgets/base",
            "_model_module_version": "1.5.0",
            "_view_count": null,
            "_view_module_version": "1.2.0",
            "_model_module": "@jupyter-widgets/controls"
          }
        },
        "4db0ddb5f1884b119e77b9246f64ac69": {
          "model_module": "@jupyter-widgets/base",
          "model_name": "LayoutModel",
          "model_module_version": "1.2.0",
          "state": {
            "_view_name": "LayoutView",
            "grid_template_rows": null,
            "right": null,
            "justify_content": null,
            "_view_module": "@jupyter-widgets/base",
            "overflow": null,
            "_model_module_version": "1.2.0",
            "_view_count": null,
            "flex_flow": null,
            "width": null,
            "min_width": null,
            "border": null,
            "align_items": null,
            "bottom": null,
            "_model_module": "@jupyter-widgets/base",
            "top": null,
            "grid_column": null,
            "overflow_y": null,
            "overflow_x": null,
            "grid_auto_flow": null,
            "grid_area": null,
            "grid_template_columns": null,
            "flex": null,
            "_model_name": "LayoutModel",
            "justify_items": null,
            "grid_row": null,
            "max_height": null,
            "align_content": null,
            "visibility": null,
            "align_self": null,
            "height": null,
            "min_height": null,
            "padding": null,
            "grid_auto_rows": null,
            "grid_gap": null,
            "max_width": null,
            "order": null,
            "_view_module_version": "1.2.0",
            "grid_template_areas": null,
            "object_position": null,
            "object_fit": null,
            "grid_auto_columns": null,
            "margin": null,
            "display": null,
            "left": null
          }
        }
      }
    }
  },
  "cells": [
    {
      "cell_type": "code",
      "metadata": {
        "id": "7jX-kFSeP-EU",
        "colab": {
          "base_uri": "https://localhost:8080/"
        },
        "outputId": "370f09c1-47f1-4649-974b-7d55f1ad1582"
      },
      "source": [
        "!pip install kornia advertorch\n",
        "!nvidia-smi"
      ],
      "execution_count": null,
      "outputs": [
        {
          "output_type": "stream",
          "text": [
            "Collecting kornia\n",
            "\u001b[?25l  Downloading https://files.pythonhosted.org/packages/25/f6/9fb4cc2c67796680c8041fa6ffdee5f280e4cf65c86835768a700a324d59/kornia-0.4.1-py2.py3-none-any.whl (225kB)\n",
            "\u001b[K     |████████████████████████████████| 225kB 4.3MB/s \n",
            "\u001b[?25hCollecting advertorch\n",
            "\u001b[?25l  Downloading https://files.pythonhosted.org/packages/2f/b1/84602596294c32f49396bac9c36f1f72b00577bbcb26ebbe776e64791cac/advertorch-0.2.3.tar.gz (5.7MB)\n",
            "\u001b[K     |████████████████████████████████| 5.7MB 12.4MB/s \n",
            "\u001b[?25hRequirement already satisfied: numpy in /usr/local/lib/python3.6/dist-packages (from kornia) (1.19.4)\n",
            "Requirement already satisfied: torch>=1.6.0 in /usr/local/lib/python3.6/dist-packages (from kornia) (1.7.0+cu101)\n",
            "Requirement already satisfied: future in /usr/local/lib/python3.6/dist-packages (from torch>=1.6.0->kornia) (0.16.0)\n",
            "Requirement already satisfied: dataclasses in /usr/local/lib/python3.6/dist-packages (from torch>=1.6.0->kornia) (0.8)\n",
            "Requirement already satisfied: typing-extensions in /usr/local/lib/python3.6/dist-packages (from torch>=1.6.0->kornia) (3.7.4.3)\n",
            "Building wheels for collected packages: advertorch\n",
            "  Building wheel for advertorch (setup.py) ... \u001b[?25l\u001b[?25hdone\n",
            "  Created wheel for advertorch: filename=advertorch-0.2.3-cp36-none-any.whl size=5696220 sha256=21bbbe55e3444d31b81e22587635a9530560b14d32606a807fc22298c85f91bb\n",
            "  Stored in directory: /root/.cache/pip/wheels/9b/53/6e/6b2509701b0da68443fa3d4499733f5455d6d583afa8c46676\n",
            "Successfully built advertorch\n",
            "Installing collected packages: kornia, advertorch\n",
            "Successfully installed advertorch-0.2.3 kornia-0.4.1\n",
            "Wed Jan  6 12:47:08 2021       \n",
            "+-----------------------------------------------------------------------------+\n",
            "| NVIDIA-SMI 460.27.04    Driver Version: 418.67       CUDA Version: 10.1     |\n",
            "|-------------------------------+----------------------+----------------------+\n",
            "| GPU  Name        Persistence-M| Bus-Id        Disp.A | Volatile Uncorr. ECC |\n",
            "| Fan  Temp  Perf  Pwr:Usage/Cap|         Memory-Usage | GPU-Util  Compute M. |\n",
            "|                               |                      |               MIG M. |\n",
            "|===============================+======================+======================|\n",
            "|   0  Tesla P100-PCIE...  Off  | 00000000:00:04.0 Off |                    0 |\n",
            "| N/A   46C    P0    26W / 250W |      0MiB / 16280MiB |      0%      Default |\n",
            "|                               |                      |                 ERR! |\n",
            "+-------------------------------+----------------------+----------------------+\n",
            "                                                                               \n",
            "+-----------------------------------------------------------------------------+\n",
            "| Processes:                                                                  |\n",
            "|  GPU   GI   CI        PID   Type   Process name                  GPU Memory |\n",
            "|        ID   ID                                                   Usage      |\n",
            "|=============================================================================|\n",
            "|  No running processes found                                                 |\n",
            "+-----------------------------------------------------------------------------+\n"
          ],
          "name": "stdout"
        }
      ]
    },
    {
      "cell_type": "code",
      "metadata": {
        "id": "GxFpYW717mws"
      },
      "source": [
        "import torch\n",
        "import torch.nn as nn\n",
        "import torch.nn.functional as F\n",
        "from torch.utils.data import DataLoader\n",
        "from torchvision import datasets,transforms\n",
        "from torchvision.utils import make_grid\n",
        "from torchsummary import summary\n",
        "\n",
        "from advertorch.attacks import GradientSignAttack,GradientAttack,LinfPGDAttack\n",
        "\n",
        "import time\n",
        "import kornia\n",
        "import numpy as np\n",
        "from numba import njit\n",
        "import pandas as pd\n",
        "from sklearn.metrics import confusion_matrix\n",
        "import seaborn as sns\n",
        "import matplotlib.pyplot as plt\n",
        "%matplotlib inline"
      ],
      "execution_count": null,
      "outputs": []
    },
    {
      "cell_type": "code",
      "metadata": {
        "id": "UC9Y8W_e7pOV"
      },
      "source": [
        "\"\"\"\n",
        "TODO:\n",
        "\n",
        "- Probability of dropping to be found from secret key, not set it by default.\n",
        "- Use list for deciding sizes of layers, changing numbers each time is cumbersome.\n",
        "- Make a Github repo and push changes to track them easily.\n",
        "- Design Question: Fix Neuron sizes before hand? or initialize layers and then zero them out? Memory? Privacy?\n",
        "- Inbuilt torch functions instead of custom calls? einsums?\n",
        "- Adversarial Robustness Evaluations: Black, Grey, White?\n",
        "  - BlackBox attacks : Ensembling?\n",
        "\n",
        "\"\"\"\n",
        "\n",
        "class RandomNet(nn.Module):\n",
        "\n",
        "    def __init__(self,one_time_random=True, dev='cuda'):\n",
        "      super(RandomNet, self).__init__()\n",
        "\n",
        "      self.linear1 = nn.Linear(784,512)\n",
        "      self.relu1 = nn.ReLU()\n",
        "      self.linear2 = nn.Linear(512,256)\n",
        "      self.relu2 = nn.ReLU()\n",
        "      self.linear3 = nn.Linear(256,64)\n",
        "      self.relu3 = nn.ReLU()\n",
        "      self.linear4 = nn.Linear(64, 10)\n",
        "\n",
        "      self.mat1 = self.rand_drop(512,dev)\n",
        "      self.mat2 = self.rand_drop(256,dev)\n",
        "      self.mat3 = self.rand_drop(64,dev)\n",
        "\n",
        "      self.one_time_random = one_time_random\n",
        "      self.dev = dev\n",
        "\n",
        "    def rand_drop(self, sz, dev = 'cuda', p=0.8):\n",
        "\n",
        "      x = torch.rand(1,sz)\n",
        "      x = (x <= p).type(torch.IntTensor)\n",
        "      return x.to(dev)\n",
        "\n",
        "    def forward(self, x):\n",
        "      # print(f\"Shape before {x.shape}\")\n",
        "      if self.one_time_random == False:\n",
        "\n",
        "        self.mat1 = self.rand_drop(512,self.dev)\n",
        "        self.mat2 = self.rand_drop(256,self.dev)\n",
        "        self.mat3 = self.rand_drop(64,self.dev)\n",
        "\n",
        "      x = self.relu1(self.linear1(x))*(self.mat1)\n",
        "      # print(f\"Shape after layer1 {x.shape} {self.mat1.device}\")\n",
        "      print(f\"neurons shutoff in layer1 {(self.mat1==0).sum()} out of {self.mat1.shape[1]}\")\n",
        "      x = self.relu2(self.linear2(x))*(self.mat2)\n",
        "      # print(f\"Shape after layer2 {x.shape}\")\n",
        "      print(f\"neurons shutoff in layer2 {(self.mat2==0).sum()} out of {self.mat2.shape[1]}\")\n",
        "      x = self.relu3(self.linear3(x))*(self.mat3)\n",
        "      # print(f\"Shape after layer3 {x.shape}\")\n",
        "      print(f\"neurons shutoff in layer3 {(self.mat3==0).sum()} out of {self.mat3.shape[1]}\")\n",
        "      x = (self.linear4(x))\n",
        "      # print(f\"Shape after layer4 {x.shape}\")\n",
        "      return x"
      ],
      "execution_count": null,
      "outputs": []
    },
    {
      "cell_type": "code",
      "metadata": {
        "id": "MLLHBokiF-YC"
      },
      "source": [
        "#Hyperparameters\n",
        "\n",
        "device = 'cuda'\n",
        "train_batch_size =128\n",
        "test_batch_size = 64\n",
        "test_batch_test_all = 10000\n",
        "epochs = 15\n",
        "learning_rate = 3e-4\n",
        "weight_decay =  0"
      ],
      "execution_count": null,
      "outputs": []
    },
    {
      "cell_type": "code",
      "metadata": {
        "id": "IKZrFrrXGCzC",
        "colab": {
          "base_uri": "https://localhost:8080/",
          "height": 391,
          "referenced_widgets": [
            "ca94b6ce1c2d4986a4a59569960eae9a",
            "7371575108124434875e8903dcdfd677",
            "84dd989a66444eed99a2420b29a218d6",
            "9af3fa8befc448639ec19f31043b82f9",
            "eddf696d299349978652351f94b9f97e",
            "8edbb84b2f7c444491e15ced61128b81",
            "8797846fb4b0447e8cee7ce59eda2e13",
            "8dfee6bc72c047b289916770a6b2d3d0",
            "fc592de970a749bc954106933b17d782",
            "28dcf901669144fcb2ee2eddec38e67c",
            "212b11080a7145818488040756a68508",
            "1575b85bfca44a73b7935044b5cea27f",
            "d7e0cbfe69da40628ba439c44c89bf3c",
            "182f7237e7f44954b67cf202e7d96a75",
            "a1cf1d9b7f1c4098b3c68455978b5ebe",
            "cc94a80339bd4a269ac236dadd847385",
            "ecc8b3c089d04e9d9419b622a8524633",
            "edf3252d7d944827b4945058876c4f91",
            "a7faeaef738345569ee41999e69b87af",
            "603afcc61c994fd781e8fd23acad3efe",
            "9ab3b221d0004061a16f5d00e7e5570d",
            "40c9ae96b84c4e7987d38a60e80b7cee",
            "3242fcd802ad4ccbb6ec76b5b1431ca5",
            "3036920d5bcc458488610e75752412c9",
            "50e2c87a9ccb4768bd30e05563e0e8c1",
            "d4edd584c07840d5977918d9d97526f1",
            "238d529ec31644b784c7fd11696e92d0",
            "317e91db5aa549289e8d19c3477673d4",
            "595efe5817db49d193d975d266bb4dea",
            "a3da94f2d0e545bd92c3784db12950d8",
            "5da5a3b8a55247079718f9875b7bb4c9",
            "4db0ddb5f1884b119e77b9246f64ac69"
          ]
        },
        "outputId": "7175e50f-fcff-41db-c30e-0bd38eb83fe1"
      },
      "source": [
        "train_dataset = datasets.MNIST(root='../data/',train=True, download=True, \n",
        "    transform=transforms.ToTensor())\n",
        "train_loader = torch.utils.data.DataLoader(train_dataset, \n",
        "    batch_size=train_batch_size, shuffle=True)\n",
        "\n",
        "test_dataset = datasets.MNIST(root='../data/', train=False, download=True, \n",
        "    transform=transforms.ToTensor())\n",
        "test_loader = torch.utils.data.DataLoader(test_dataset, \n",
        "    batch_size=test_batch_size, shuffle=True)"
      ],
      "execution_count": null,
      "outputs": [
        {
          "output_type": "stream",
          "text": [
            "Downloading http://yann.lecun.com/exdb/mnist/train-images-idx3-ubyte.gz to ../data/MNIST/raw/train-images-idx3-ubyte.gz\n"
          ],
          "name": "stdout"
        },
        {
          "output_type": "display_data",
          "data": {
            "application/vnd.jupyter.widget-view+json": {
              "model_id": "ca94b6ce1c2d4986a4a59569960eae9a",
              "version_minor": 0,
              "version_major": 2
            },
            "text/plain": [
              "HBox(children=(FloatProgress(value=1.0, bar_style='info', max=1.0), HTML(value='')))"
            ]
          },
          "metadata": {
            "tags": []
          }
        },
        {
          "output_type": "stream",
          "text": [
            "Extracting ../data/MNIST/raw/train-images-idx3-ubyte.gz to ../data/MNIST/raw\n",
            "Downloading http://yann.lecun.com/exdb/mnist/train-labels-idx1-ubyte.gz to ../data/MNIST/raw/train-labels-idx1-ubyte.gz\n",
            "\n"
          ],
          "name": "stdout"
        },
        {
          "output_type": "display_data",
          "data": {
            "application/vnd.jupyter.widget-view+json": {
              "model_id": "fc592de970a749bc954106933b17d782",
              "version_minor": 0,
              "version_major": 2
            },
            "text/plain": [
              "HBox(children=(FloatProgress(value=1.0, bar_style='info', max=1.0), HTML(value='')))"
            ]
          },
          "metadata": {
            "tags": []
          }
        },
        {
          "output_type": "stream",
          "text": [
            "Extracting ../data/MNIST/raw/train-labels-idx1-ubyte.gz to ../data/MNIST/raw\n",
            "Downloading http://yann.lecun.com/exdb/mnist/t10k-images-idx3-ubyte.gz to ../data/MNIST/raw/t10k-images-idx3-ubyte.gz\n"
          ],
          "name": "stdout"
        },
        {
          "output_type": "display_data",
          "data": {
            "application/vnd.jupyter.widget-view+json": {
              "model_id": "ecc8b3c089d04e9d9419b622a8524633",
              "version_minor": 0,
              "version_major": 2
            },
            "text/plain": [
              "HBox(children=(FloatProgress(value=1.0, bar_style='info', max=1.0), HTML(value='')))"
            ]
          },
          "metadata": {
            "tags": []
          }
        },
        {
          "output_type": "stream",
          "text": [
            "Extracting ../data/MNIST/raw/t10k-images-idx3-ubyte.gz to ../data/MNIST/raw\n",
            "Downloading http://yann.lecun.com/exdb/mnist/t10k-labels-idx1-ubyte.gz to ../data/MNIST/raw/t10k-labels-idx1-ubyte.gz\n"
          ],
          "name": "stdout"
        },
        {
          "output_type": "display_data",
          "data": {
            "application/vnd.jupyter.widget-view+json": {
              "model_id": "50e2c87a9ccb4768bd30e05563e0e8c1",
              "version_minor": 0,
              "version_major": 2
            },
            "text/plain": [
              "HBox(children=(FloatProgress(value=1.0, bar_style='info', max=1.0), HTML(value='')))"
            ]
          },
          "metadata": {
            "tags": []
          }
        },
        {
          "output_type": "stream",
          "text": [
            "Extracting ../data/MNIST/raw/t10k-labels-idx1-ubyte.gz to ../data/MNIST/raw\n",
            "Processing...\n",
            "Done!\n"
          ],
          "name": "stdout"
        },
        {
          "output_type": "stream",
          "text": [
            "/usr/local/lib/python3.6/dist-packages/torchvision/datasets/mnist.py:480: UserWarning: The given NumPy array is not writeable, and PyTorch does not support non-writeable tensors. This means you can write to the underlying (supposedly non-writeable) NumPy array using the tensor. You may want to copy the array to protect its data or make it writeable before converting it to a tensor. This type of warning will be suppressed for the rest of this program. (Triggered internally at  /pytorch/torch/csrc/utils/tensor_numpy.cpp:141.)\n",
            "  return torch.from_numpy(parsed.astype(m[2], copy=False)).view(*s)\n"
          ],
          "name": "stderr"
        }
      ]
    },
    {
      "cell_type": "code",
      "metadata": {
        "colab": {
          "base_uri": "https://localhost:8080/",
          "height": 317
        },
        "id": "7AI2GL1D_k3a",
        "outputId": "83bb408c-f922-4319-dd79-d3ec4b30b47a"
      },
      "source": [
        "\"\"\"\n",
        "rudimentary tests\n",
        " \"\"\"\n",
        "for X_train, y_train in train_loader:\n",
        "  X_train = X_train.to(device)\n",
        "  X_train = X_train.reshape(train_batch_size,-1)\n",
        "  break\n",
        "plt.imshow(X_train[2].reshape(28,28).squeeze().cpu(),cmap=\"Greys\")"
      ],
      "execution_count": null,
      "outputs": [
        {
          "output_type": "stream",
          "text": [
            "\n",
            "\n"
          ],
          "name": "stdout"
        },
        {
          "output_type": "execute_result",
          "data": {
            "text/plain": [
              "<matplotlib.image.AxesImage at 0x7f072254ba58>"
            ]
          },
          "metadata": {
            "tags": []
          },
          "execution_count": 7
        },
        {
          "output_type": "display_data",
          "data": {
            "image/png": "[encoded data removed]",
            "text/plain": [
              "<Figure size 432x288 with 1 Axes>"
            ]
          },
          "metadata": {
            "tags": [],
            "needs_background": "light"
          }
        }
      ]
    },
    {
      "cell_type": "code",
      "metadata": {
        "id": "gF3KSnme-CLM"
      },
      "source": [
        "model_one_rand = RandomNet(one_time_random=True , dev = device) #Fix neurons to be shutoff\n",
        "model_one_rand.to(device)\n",
        "criterion_one_rand = nn.CrossEntropyLoss() \n",
        "optimizer_one_rand = torch.optim.Adam(model_one_rand.parameters(),lr=learning_rate)\n",
        "\n",
        "model_mult_rand = RandomNet(one_time_random=False , dev = device) #Don't fix neurons to be shutoff \n",
        "model_mult_rand.to(device)\n",
        "criterion_mult_rand = nn.CrossEntropyLoss() \n",
        "optimizer_mult_rand = torch.optim.Adam(model_mult_rand.parameters(),lr=learning_rate)"
      ],
      "execution_count": null,
      "outputs": []
    },
    {
      "cell_type": "code",
      "metadata": {
        "colab": {
          "base_uri": "https://localhost:8080/"
        },
        "id": "dwgh3OhZ91hm",
        "outputId": "4bc4fafc-8e2f-43c2-fe5f-dd362192c82c"
      },
      "source": [
        "print('for one time random\\n')\n",
        "model_one_rand.forward(X_train)\n",
        "\n",
        "print('\\nfor multi time random\\n')\n",
        "model_mult_rand(X_train);"
      ],
      "execution_count": null,
      "outputs": [
        {
          "output_type": "stream",
          "text": [
            "for one time random\n",
            "\n",
            "neurons shutoff in layer1 111 out of 512\n",
            "neurons shutoff in layer2 48 out of 256\n",
            "neurons shutoff in layer3 13 out of 64\n",
            "\n",
            "for multi time random\n",
            "\n",
            "neurons shutoff in layer1 106 out of 512\n",
            "neurons shutoff in layer2 67 out of 256\n",
            "neurons shutoff in layer3 13 out of 64\n"
          ],
          "name": "stdout"
        }
      ]
    },
    {
      "cell_type": "code",
      "metadata": {
        "colab": {
          "base_uri": "https://localhost:8080/"
        },
        "id": "SF-MEVBlAsow",
        "outputId": "9399c04d-67ba-41e4-a157-a59a1e7d6a61"
      },
      "source": [
        "#FOR LOOP EPOCHS\n",
        "#train the model\n",
        "import time\n",
        "start_time = time.time()\n",
        "\n",
        "\n",
        "#VARIABLES,TRACKERS\n",
        "for i in range(epochs):\n",
        "\n",
        "  for j,(X_train,y_train) in enumerate(train_loader):\n",
        "    \n",
        "    j+=1\n",
        "\n",
        "    #TRAIN\n",
        "    X_train = X_train.to(device).reshape(X_train.shape[0],-1)\n",
        "    y_train = y_train.to(device)\n",
        "    \n",
        "    y_pred = model_one_rand(X_train)\n",
        "    loss_one_rand = criterion_one_rand(y_pred,y_train)\n",
        "\n",
        "    optimizer_one_rand.zero_grad()\n",
        "    loss_one_rand.backward()\n",
        "    optimizer_one_rand.step()\n",
        "\n",
        "    y_pred = model_mult_rand(X_train)\n",
        "    loss_mult_rand = criterion_mult_rand(y_pred,y_train)\n",
        "\n",
        "    optimizer_mult_rand.zero_grad()\n",
        "    loss_mult_rand.backward()\n",
        "    optimizer_mult_rand.step()\n",
        "\n",
        "    if j% 250== 0:\n",
        "      print(f'epoch {i} : batch  {j} : loss one rand {loss_one_rand.item()} : Loss Mult rand : {loss_mult_rand.item()}')\n",
        "      #plt.imshow(X_train[5].squeeze().cpu(),cmap=\"Greys\")\n",
        "      \n",
        "current_time = time.time()\n",
        "print(f'the model took {(current_time-start_time)/60} minutes to train')"
      ],
      "execution_count": null,
      "outputs": [
        {
          "output_type": "stream",
          "text": [
            "epoch 0 : batch  250 : loss one rand 0.3026416003704071 : Loss Mult rand : 0.5672222375869751\n",
            "epoch 1 : batch  250 : loss one rand 0.23694980144500732 : Loss Mult rand : 0.274746298789978\n",
            "epoch 2 : batch  250 : loss one rand 0.17469871044158936 : Loss Mult rand : 0.21091534197330475\n",
            "epoch 3 : batch  250 : loss one rand 0.17559684813022614 : Loss Mult rand : 0.2433175891637802\n",
            "epoch 4 : batch  250 : loss one rand 0.18005216121673584 : Loss Mult rand : 0.15587842464447021\n",
            "epoch 5 : batch  250 : loss one rand 0.08314592391252518 : Loss Mult rand : 0.15622568130493164\n",
            "epoch 6 : batch  250 : loss one rand 0.07096317410469055 : Loss Mult rand : 0.10718517005443573\n",
            "epoch 7 : batch  250 : loss one rand 0.13596351444721222 : Loss Mult rand : 0.1636575311422348\n",
            "epoch 8 : batch  250 : loss one rand 0.0721372663974762 : Loss Mult rand : 0.14850746095180511\n",
            "epoch 9 : batch  250 : loss one rand 0.03985688090324402 : Loss Mult rand : 0.038087163120508194\n",
            "epoch 10 : batch  250 : loss one rand 0.029246436432003975 : Loss Mult rand : 0.0300529133528471\n",
            "epoch 11 : batch  250 : loss one rand 0.024819470942020416 : Loss Mult rand : 0.060491930693387985\n",
            "epoch 12 : batch  250 : loss one rand 0.022737184539437294 : Loss Mult rand : 0.05579650029540062\n",
            "epoch 13 : batch  250 : loss one rand 0.015855509787797928 : Loss Mult rand : 0.04300256446003914\n",
            "epoch 14 : batch  250 : loss one rand 0.006339616607874632 : Loss Mult rand : 0.014988422393798828\n",
            "the model took 1.5733480016390482 minutes to train\n"
          ],
          "name": "stdout"
        }
      ]
    },
    {
      "cell_type": "code",
      "metadata": {
        "id": "DP2NtgIHBboN",
        "colab": {
          "base_uri": "https://localhost:8080/",
          "height": 405
        },
        "outputId": "44144dac-09c7-4a58-8ab6-96a5df0d6db7"
      },
      "source": [
        "test_load_all = torch.utils.data.DataLoader(test_dataset, batch_size=test_batch_test_all, shuffle=False)\n",
        "\n",
        "with torch.no_grad():\n",
        "    correct = 0\n",
        "    for X_test, y_test in test_load_all:\n",
        "\n",
        "        X_test = X_test.to(device).reshape(X_test.shape[0],-1)\n",
        "        y_test = y_test.to(device)\n",
        "        y_val = model_one_rand(X_test)\n",
        "        predicted = torch.max(y_val,1)[1]\n",
        "        correct += (predicted == y_test).sum()\n",
        "\n",
        "        break\n",
        "        \n",
        "print(f'Test accuracy Basic: {correct.item()}/{test_batch_test_all} = {correct.item()*100/(test_batch_test_all):7.3f}%')\n",
        "\n",
        "class_names = ['0', '1', ' 2', '  3', ' 4', ' 5', ' 6', '7', '8', '9']\n",
        "arr = confusion_matrix(predicted.view(-1).cpu(), y_test.view(-1).cpu())\n",
        "df_cm = pd.DataFrame(arr, class_names, class_names)\n",
        "\n",
        "\n",
        "plt.figure(figsize = (9,6))\n",
        "sns.heatmap(df_cm, annot=True, fmt=\"d\", cmap='BuGn')\n",
        "plt.xlabel(\"prediction\")\n",
        "plt.ylabel(\"label (ground truth)\")\n",
        "plt.show()"
      ],
      "execution_count": null,
      "outputs": [
        {
          "output_type": "stream",
          "text": [
            "Test accuracy Basic: 9791/10000 =  97.910%\n"
          ],
          "name": "stdout"
        },
        {
          "output_type": "display_data",
          "data": {
            "image/png": "[encoded data removed]",
            "text/plain": [
              "<Figure size 648x432 with 2 Axes>"
            ]
          },
          "metadata": {
            "tags": [],
            "needs_background": "light"
          }
        }
      ]
    },
    {
      "cell_type": "code",
      "metadata": {
        "id": "p4Rkz3ORjhtw",
        "colab": {
          "base_uri": "https://localhost:8080/",
          "height": 405
        },
        "outputId": "4c0dd97b-e231-4446-c048-83b73d95a238"
      },
      "source": [
        "test_load_all = torch.utils.data.DataLoader(test_dataset, batch_size=test_batch_test_all, shuffle=False)\n",
        "\n",
        "with torch.no_grad():\n",
        "    correct = 0\n",
        "    for X_test, y_test in test_load_all:\n",
        "\n",
        "        X_test = X_test.to(device).reshape(X_test.shape[0],-1)\n",
        "        y_test = y_test.to(device)\n",
        "        y_val = model_mult_rand(X_test)\n",
        "        predicted = torch.max(y_val,1)[1]\n",
        "        correct += (predicted == y_test).sum()\n",
        "\n",
        "        break\n",
        "        \n",
        "print(f'Test accuracy Basic: {correct.item()}/{test_batch_test_all} = {correct.item()*100/(test_batch_test_all):7.3f}%')\n",
        "\n",
        "class_names = ['0', '1', ' 2', '  3', ' 4', ' 5', ' 6', '7', '8', '9']\n",
        "arr = confusion_matrix(predicted.view(-1).cpu(), y_test.view(-1).cpu())\n",
        "df_cm = pd.DataFrame(arr, class_names, class_names)\n",
        "\n",
        "\n",
        "plt.figure(figsize = (9,6))\n",
        "sns.heatmap(df_cm, annot=True, fmt=\"d\", cmap='BuGn')\n",
        "plt.xlabel(\"prediction\")\n",
        "plt.ylabel(\"label (ground truth)\")\n",
        "plt.show()"
      ],
      "execution_count": null,
      "outputs": [
        {
          "output_type": "stream",
          "text": [
            "Test accuracy Basic: 9794/10000 =  97.940%\n"
          ],
          "name": "stdout"
        },
        {
          "output_type": "display_data",
          "data": {
            "image/png": "[encoded data removed]",
            "text/plain": [
              "<Figure size 648x432 with 2 Axes>"
            ]
          },
          "metadata": {
            "tags": [],
            "needs_background": "light"
          }
        }
      ]
    },
    {
      "cell_type": "code",
      "metadata": {
        "id": "32kScidiFRXZ"
      },
      "source": [
        ""
      ],
      "execution_count": null,
      "outputs": []
    }
  ]
}